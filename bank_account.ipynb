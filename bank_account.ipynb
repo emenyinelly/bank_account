{
 "cells": [
  {
   "cell_type": "code",
   "execution_count": null,
   "id": "cf5caa6e",
   "metadata": {},
   "outputs": [],
   "source": [
    "class Account:\n",
    "    def __init__(self, account_number, account_holder, account_balance=0.0):\n",
    "        self.account_number = account_number\n",
    "        self.account_holder = account_holder\n",
    "        self.account_balance = account_balance\n",
    "\n",
    "    def deposit(self, amount):\n",
    "        if amount > 0:\n",
    "            self.account_balance += amount\n",
    "            print(f\"Deposited {amount}. New balance: {self.account_balance}\")\n",
    "        else:\n",
    "            print(\"Deposit amount must be positive.\")\n",
    "\n",
    "    def withdraw(self, amount):\n",
    "        if amount <= 0:\n",
    "            print(\"Withdrawal amount must be positive.\")\n",
    "        elif amount > self.account_balance:\n",
    "            print(\"Insufficient balance for this withdrawal.\")\n",
    "        else:\n",
    "            self.account_balance -= amount\n",
    "            print(f\"Withdrew {amount}. New balance: {self.account_balance}\")\n",
    "\n",
    "    def check_balance(self):\n",
    "        return self.account_balance\n",
    "\n",
    "\n",
    "# --------- Testing the Account class ----------\n",
    "if __name__ == \"__main__\":\n",
    "    # Creating an account instance\n",
    "    my_account = Account(\"001\", \"Alice\", 1000)\n",
    "\n",
    "    # Performing transactions\n",
    "    print(\"\\n--- My Account ---\")\n",
    "    my_account.deposit(500)\n",
    "    my_account.withdraw(200)\n",
    "    print(f\"Final balance: {my_account.check_balance()}\")\n",
    "\n",
    "    # Creating another account\n",
    "    second_account = Account(\"002\", \"Bob\", 300)\n",
    "\n",
    "    print(\"\\n--- Second Account ---\")\n",
    "    second_account.deposit(100)\n",
    "    second_account.withdraw(450)  # Should show insufficient funds\n",
    "    second_account.withdraw(200)\n",
    "    print(f\"Final balance: {second_account.check_balance()}\")\n"
   ]
  }
 ],
 "metadata": {
  "language_info": {
   "name": "python"
  }
 },
 "nbformat": 4,
 "nbformat_minor": 5
}
